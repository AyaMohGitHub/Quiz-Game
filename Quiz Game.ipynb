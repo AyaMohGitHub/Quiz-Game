{
 "cells": [
  {
   "cell_type": "code",
   "execution_count": null,
   "id": "b97e3e96",
   "metadata": {},
   "outputs": [],
   "source": [
    "print(\" Welcome to my Computer quiz!\")"
   ]
  },
  {
   "cell_type": "code",
   "execution_count": null,
   "id": "84d3e3f6",
   "metadata": {},
   "outputs": [],
   "source": [
    "playing = input(\"Do you want to play? \")"
   ]
  },
  {
   "cell_type": "code",
   "execution_count": null,
   "id": "46daa2e7",
   "metadata": {},
   "outputs": [],
   "source": [
    "if playing != \"yes\":\n",
    "    quit()"
   ]
  },
  {
   "cell_type": "code",
   "execution_count": null,
   "id": "929a338e",
   "metadata": {},
   "outputs": [],
   "source": [
    "print \" Okay lets play :) \"\n",
    "score = 0"
   ]
  },
  {
   "cell_type": "code",
   "execution_count": null,
   "id": "0f9ed77f",
   "metadata": {},
   "outputs": [],
   "source": [
    "answer = input(\" What does CPU Stand for? \")\n",
    "\n",
    "if answer.lower() == \"central processing unit\":\n",
    "    print('Correct')\n",
    "    score += 1\n",
    "else:\n",
    "    print('Incorrect!')"
   ]
  },
  {
   "cell_type": "code",
   "execution_count": null,
   "id": "968cfc24",
   "metadata": {},
   "outputs": [],
   "source": [
    "answer = input(\" What does GPU Stand for? \")\n",
    "\n",
    "if answer.lower() == \"graphics processing unit\":\n",
    "    print('Correct')\n",
    "    score += 1\n",
    "else:\n",
    "    print('Incorrect!')"
   ]
  },
  {
   "cell_type": "code",
   "execution_count": null,
   "id": "ef402df1",
   "metadata": {},
   "outputs": [],
   "source": [
    "answer = input(\" What does RAM Stand for? \")\n",
    "\n",
    "if answer.lower() == \"rondom access memory\":\n",
    "    print('Correct')\n",
    "    score += 1\n",
    "else:\n",
    "    print('Incorrect!')\n",
    "    "
   ]
  },
  {
   "cell_type": "code",
   "execution_count": null,
   "id": "ef63bdf7",
   "metadata": {},
   "outputs": [],
   "source": [
    "answer = input(\" What does PSU Stand for? \")\n",
    "\n",
    "if answer.lower() == \"power supply\":\n",
    "    print('Correct')\n",
    "    score += 1\n",
    "else:\n",
    "    print('Incorrect!')"
   ]
  },
  {
   "cell_type": "code",
   "execution_count": null,
   "id": "cde41727",
   "metadata": {},
   "outputs": [],
   "source": [
    "print(\"You got \" + str(score) + \"questions correct!\")"
   ]
  },
  {
   "cell_type": "code",
   "execution_count": null,
   "id": "ef2edaba",
   "metadata": {},
   "outputs": [],
   "source": [
    "print(\"You got \" + str((score /4) * 100) + \"%.\")"
   ]
  }
 ],
 "metadata": {
  "kernelspec": {
   "display_name": "Python 3",
   "language": "python",
   "name": "python3"
  },
  "language_info": {
   "codemirror_mode": {
    "name": "ipython",
    "version": 3
   },
   "file_extension": ".py",
   "mimetype": "text/x-python",
   "name": "python",
   "nbconvert_exporter": "python",
   "pygments_lexer": "ipython3",
   "version": "3.8.8"
  }
 },
 "nbformat": 4,
 "nbformat_minor": 5
}
